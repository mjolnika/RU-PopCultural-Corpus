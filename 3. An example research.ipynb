{
 "cells": [
  {
   "cell_type": "markdown",
   "metadata": {},
   "source": [
    "###### Для части 1."
   ]
  },
  {
   "cell_type": "code",
   "execution_count": 1,
   "metadata": {},
   "outputs": [],
   "source": [
    "import sqlite3"
   ]
  },
  {
   "cell_type": "markdown",
   "metadata": {},
   "source": [
    "###### Для части 2."
   ]
  },
  {
   "cell_type": "code",
   "execution_count": 2,
   "metadata": {},
   "outputs": [],
   "source": [
    "from collections import defaultdict, Counter\n",
    "import random\n",
    "import re\n",
    "import pandas as pd\n",
    "import numpy as np\n",
    "import matplotlib.pyplot as plt"
   ]
  },
  {
   "cell_type": "code",
   "execution_count": 3,
   "metadata": {},
   "outputs": [],
   "source": [
    "db = sqlite3.connect('../ALLP.db')\n",
    "cur = db.cursor()"
   ]
  },
  {
   "cell_type": "markdown",
   "metadata": {},
   "source": [
    "### 1. Как посмотреть вхождения в корпусе"
   ]
  },
  {
   "cell_type": "code",
   "execution_count": 4,
   "metadata": {},
   "outputs": [],
   "source": [
    "cur.execute('''SELECT author.band, song.songname, song.year, token.id, token.song_id, token.line, token.token, token.lem, token.in_sent FROM token\n",
    "            JOIN song ON song.id = token.song_id\n",
    "        JOIN author ON author.id = song.author_id''')\n",
    "tokens = cur.fetchall()"
   ]
  },
  {
   "cell_type": "code",
   "execution_count": 5,
   "metadata": {},
   "outputs": [
    {
     "data": {
      "text/plain": [
       "('Loboda', 'Твои глаза', 2016, 1557, 18, 1, 'на', 'на', 3)"
      ]
     },
     "execution_count": 5,
     "metadata": {},
     "output_type": "execute_result"
    }
   ],
   "source": [
    "tokens[10]"
   ]
  },
  {
   "cell_type": "code",
   "execution_count": 6,
   "metadata": {},
   "outputs": [],
   "source": [
    "def checklem(lem, tokens=tokens):\n",
    "    tdictlist = []\n",
    "    for token in tokens:\n",
    "        tok = {}\n",
    "        tok['artist']=token[0]\n",
    "        tok['songname']=token[1]\n",
    "        tok['year']=token[2]\n",
    "        tok['id']=token[3]\n",
    "        tok['song_id']=token[4]\n",
    "        tok['line']=token[5]\n",
    "        tok['token']=token[6]\n",
    "        tok['lem']=token[7]\n",
    "        tok['in_sent']=token[8]\n",
    "        tdictlist.append(tok)\n",
    "        \n",
    "    violence = []\n",
    "    for item in tdictlist:\n",
    "        if item['lem']==lem:\n",
    "            s_id = item['song_id']\n",
    "            string = []\n",
    "            for token in tdictlist:\n",
    "                if token['song_id']==s_id:\n",
    "                    if token['line']==item['line']:\n",
    "                        string.append(token['token'])\n",
    "            viol_list = []\n",
    "            viol_list.append(item['artist'])\n",
    "            viol_list.append(item['songname'])\n",
    "            viol_list.append(item['year'])\n",
    "            viol_list.append(' '.join([item for item in string]))\n",
    "            violence.append(viol_list)\n",
    "    df = pd.DataFrame(violence, columns=['artist', 'songname', 'year', 'lyric'])\n",
    "    return df"
   ]
  },
  {
   "cell_type": "code",
   "execution_count": 7,
   "metadata": {},
   "outputs": [],
   "source": [
    "may = checklem('май')"
   ]
  },
  {
   "cell_type": "code",
   "execution_count": 8,
   "metadata": {},
   "outputs": [
    {
     "data": {
      "text/html": [
       "<div>\n",
       "<style scoped>\n",
       "    .dataframe tbody tr th:only-of-type {\n",
       "        vertical-align: middle;\n",
       "    }\n",
       "\n",
       "    .dataframe tbody tr th {\n",
       "        vertical-align: top;\n",
       "    }\n",
       "\n",
       "    .dataframe thead th {\n",
       "        text-align: right;\n",
       "    }\n",
       "</style>\n",
       "<table border=\"1\" class=\"dataframe\">\n",
       "  <thead>\n",
       "    <tr style=\"text-align: right;\">\n",
       "      <th></th>\n",
       "      <th>artist</th>\n",
       "      <th>songname</th>\n",
       "      <th>year</th>\n",
       "      <th>lyric</th>\n",
       "    </tr>\n",
       "  </thead>\n",
       "  <tbody>\n",
       "    <tr>\n",
       "      <td>0</td>\n",
       "      <td>Monatik</td>\n",
       "      <td>Вечность</td>\n",
       "      <td>2016</td>\n",
       "      <td>В голове моей нужен май</td>\n",
       "    </tr>\n",
       "    <tr>\n",
       "      <td>1</td>\n",
       "      <td>Иван Дорн</td>\n",
       "      <td>Стыцамен</td>\n",
       "      <td>2011</td>\n",
       "      <td>Самая люби муз мая люби грает</td>\n",
       "    </tr>\n",
       "    <tr>\n",
       "      <td>2</td>\n",
       "      <td>Иван Дорн</td>\n",
       "      <td>Стыцамен</td>\n",
       "      <td>2011</td>\n",
       "      <td>Самая люби муз мая люби грает</td>\n",
       "    </tr>\n",
       "    <tr>\n",
       "      <td>3</td>\n",
       "      <td>монеточка</td>\n",
       "      <td>90</td>\n",
       "      <td>2018</td>\n",
       "      <td>Ведь только Ласковый Май пел по радио</td>\n",
       "    </tr>\n",
       "    <tr>\n",
       "      <td>4</td>\n",
       "      <td>FACE</td>\n",
       "      <td>Лиза</td>\n",
       "      <td>2017</td>\n",
       "      <td>Май среди январей</td>\n",
       "    </tr>\n",
       "    <tr>\n",
       "      <td>5</td>\n",
       "      <td>Каста</td>\n",
       "      <td>Ды-ды-дым</td>\n",
       "      <td>2008</td>\n",
       "      <td>Так это ж май был</td>\n",
       "    </tr>\n",
       "    <tr>\n",
       "      <td>6</td>\n",
       "      <td>МакSим</td>\n",
       "      <td>Мой рай</td>\n",
       "      <td>2007</td>\n",
       "      <td>В предметах черного цвета и слышать в голосе май</td>\n",
       "    </tr>\n",
       "    <tr>\n",
       "      <td>7</td>\n",
       "      <td>МакSим</td>\n",
       "      <td>Птицы</td>\n",
       "      <td>2009</td>\n",
       "      <td>Где цветёт сирень где кружится май</td>\n",
       "    </tr>\n",
       "    <tr>\n",
       "      <td>8</td>\n",
       "      <td>АукцЫон</td>\n",
       "      <td>Зима</td>\n",
       "      <td>1991</td>\n",
       "      <td>Лето излечит осень научит май</td>\n",
       "    </tr>\n",
       "    <tr>\n",
       "      <td>9</td>\n",
       "      <td>Винтаж</td>\n",
       "      <td>Город, где сбываются мечты</td>\n",
       "      <td>2015</td>\n",
       "      <td>И мы вдохнем с тобою вечный май</td>\n",
       "    </tr>\n",
       "    <tr>\n",
       "      <td>10</td>\n",
       "      <td>Колибри</td>\n",
       "      <td>Манера поведения</td>\n",
       "      <td>1991</td>\n",
       "      <td>Ты нежна и в мае и в ноябре</td>\n",
       "    </tr>\n",
       "    <tr>\n",
       "      <td>11</td>\n",
       "      <td>Татьяна Буланова</td>\n",
       "      <td>Люди как птицы</td>\n",
       "      <td>2002</td>\n",
       "      <td>Все пройдет так и знай снова день снова май</td>\n",
       "    </tr>\n",
       "    <tr>\n",
       "      <td>12</td>\n",
       "      <td>Бумбокс</td>\n",
       "      <td>Зима</td>\n",
       "      <td>2005</td>\n",
       "      <td>Лето излечит осень научит май</td>\n",
       "    </tr>\n",
       "    <tr>\n",
       "      <td>13</td>\n",
       "      <td>Потап и Настя</td>\n",
       "      <td>Чипсы, чиксы, лавандос</td>\n",
       "      <td>2009</td>\n",
       "      <td>Яндекс его знает май спейс его знает лайв джор...</td>\n",
       "    </tr>\n",
       "  </tbody>\n",
       "</table>\n",
       "</div>"
      ],
      "text/plain": [
       "              artist                    songname  year  \\\n",
       "0            Monatik                    Вечность  2016   \n",
       "1          Иван Дорн                    Стыцамен  2011   \n",
       "2          Иван Дорн                    Стыцамен  2011   \n",
       "3          монеточка                          90  2018   \n",
       "4               FACE                        Лиза  2017   \n",
       "5              Каста                   Ды-ды-дым  2008   \n",
       "6             МакSим                     Мой рай  2007   \n",
       "7             МакSим                       Птицы  2009   \n",
       "8            АукцЫон                        Зима  1991   \n",
       "9             Винтаж  Город, где сбываются мечты  2015   \n",
       "10           Колибри            Манера поведения  1991   \n",
       "11  Татьяна Буланова              Люди как птицы  2002   \n",
       "12           Бумбокс                        Зима  2005   \n",
       "13     Потап и Настя      Чипсы, чиксы, лавандос  2009   \n",
       "\n",
       "                                                lyric  \n",
       "0                             В голове моей нужен май  \n",
       "1                       Самая люби муз мая люби грает  \n",
       "2                       Самая люби муз мая люби грает  \n",
       "3               Ведь только Ласковый Май пел по радио  \n",
       "4                                   Май среди январей  \n",
       "5                                   Так это ж май был  \n",
       "6    В предметах черного цвета и слышать в голосе май  \n",
       "7                  Где цветёт сирень где кружится май  \n",
       "8                       Лето излечит осень научит май  \n",
       "9                     И мы вдохнем с тобою вечный май  \n",
       "10                        Ты нежна и в мае и в ноябре  \n",
       "11        Все пройдет так и знай снова день снова май  \n",
       "12                      Лето излечит осень научит май  \n",
       "13  Яндекс его знает май спейс его знает лайв джор...  "
      ]
     },
     "execution_count": 8,
     "metadata": {},
     "output_type": "execute_result"
    }
   ],
   "source": [
    "may"
   ]
  },
  {
   "cell_type": "markdown",
   "metadata": {},
   "source": [
    "### 2. Получаем данные о семантике при помощи USAS"
   ]
  },
  {
   "cell_type": "markdown",
   "metadata": {},
   "source": [
    "#### 0. Подготовка"
   ]
  },
  {
   "cell_type": "markdown",
   "metadata": {},
   "source": [
    "[Подробнее](http://ucrel.lancs.ac.uk/publications/MudrayaEtAlCL2006Russian.pdf) [Список тегов pdf](http://ucrel.lancs.ac.uk/usas/USASSemanticTagsetRussian.pdf) [Список тегов txt](http://ucrel.lancs.ac.uk/usas/semtag_ru.txt) \n",
    "[Словарь](http://ucrel.lancs.ac.uk/usas/semtag_ru.txt)<br>\n",
    "Также <i>см.репозиторий</i>"
   ]
  },
  {
   "cell_type": "markdown",
   "metadata": {},
   "source": [
    "Выгружаем токены"
   ]
  },
  {
   "cell_type": "code",
   "execution_count": 9,
   "metadata": {},
   "outputs": [],
   "source": [
    "cur.execute('''SELECT author.band, token.token, token.lem, token.in_sent\n",
    "        FROM token\n",
    "        JOIN song ON song.id = token.song_id\n",
    "        JOIN author ON author.id = song.author_id''')\n",
    "sid = cur.fetchall()"
   ]
  },
  {
   "cell_type": "markdown",
   "metadata": {},
   "source": [
    "Выгружаем все леммы, чтобы сравнивать леммы из корпуса и леммы из разметки"
   ]
  },
  {
   "cell_type": "code",
   "execution_count": 10,
   "metadata": {},
   "outputs": [],
   "source": [
    "cur.execute('SELECT pos, lem FROM token')\n",
    "lems = cur.fetchall()"
   ]
  },
  {
   "cell_type": "markdown",
   "metadata": {},
   "source": [
    "Выгружаем словарь с семантической разметкой"
   ]
  },
  {
   "cell_type": "code",
   "execution_count": 11,
   "metadata": {},
   "outputs": [],
   "source": [
    "with open('../semantic_lexicon_rus.usas', encoding='utf-8') as f:\n",
    "    text = f.read()\n",
    "llines = text.splitlines()\n",
    "words = llines[160:-2]  # убираем числа и последние пустые строки\n",
    "word_dict = defaultdict(str)\n",
    "for line in words:\n",
    "    word, pos, tag = line.split('\\t')\n",
    "    word_dict[word] = tag"
   ]
  },
  {
   "cell_type": "markdown",
   "metadata": {},
   "source": [
    "1. fromcodestocounter<br>\n",
    "codelist - строка, в которой указаны коды, которые нам нужны. <br>\n",
    "excllist - список кодов, которые нам не нужны. Используется для снятия омонимии <br>\n",
    "word_dict - словарь для каждого слова из списка usas с его разметкой <br>\n",
    "lems - леммы из корпуса"
   ]
  },
  {
   "cell_type": "markdown",
   "metadata": {},
   "source": [
    "acccepted - это части речи, которые вы принимаете в обработку"
   ]
  },
  {
   "cell_type": "code",
   "execution_count": 12,
   "metadata": {},
   "outputs": [],
   "source": [
    "accepted = ['S']"
   ]
  },
  {
   "cell_type": "code",
   "execution_count": 13,
   "metadata": {},
   "outputs": [],
   "source": [
    "def fromcodestocounter(codelist, excllist, word_dict, lems):\n",
    "    lines = codelist.splitlines()\n",
    "    codes = []\n",
    "    for line in lines:\n",
    "        code, __ = line.strip('\\t').split('\\t')\n",
    "        codes.append(code)\n",
    "    phys_list = []\n",
    "    for key in word_dict:\n",
    "        keys = re.split(' |/', word_dict[key])\n",
    "        ch = 0\n",
    "        excl = 0\n",
    "        for code in codes:\n",
    "            for ke in keys:\n",
    "                if ke == code:\n",
    "                    ch+=1\n",
    "        for ke in keys:\n",
    "            if ke in excllist:\n",
    "                excl+=1\n",
    "        if excl == 0:        \n",
    "            if ch > 0:\n",
    "                 phys_list.append(key)\n",
    "    routine = defaultdict(int)\n",
    "    for item in lems:\n",
    "        if item[0] in accepted:\n",
    "            if item[1] in phys_list:\n",
    "                routine[item[1]]+=1\n",
    "    ddd = Counter(routine)\n",
    "    return ddd.most_common()"
   ]
  },
  {
   "cell_type": "code",
   "execution_count": 14,
   "metadata": {},
   "outputs": [],
   "source": [
    "foodcodes = '''F1\tПища\n",
    "F1+\tИзобилие еды\n",
    "F1-\tНехватка еды\n",
    "F2\tНапитки и алкоголь'''"
   ]
  },
  {
   "cell_type": "code",
   "execution_count": 15,
   "metadata": {},
   "outputs": [],
   "source": [
    "food = fromcodestocounter(foodcodes, ['B1', 'W3', 'B3'], word_dict, lems)"
   ]
  },
  {
   "cell_type": "code",
   "execution_count": 16,
   "metadata": {},
   "outputs": [
    {
     "data": {
      "text/plain": [
       "[('птица', 79),\n",
       " ('вино', 63),\n",
       " ('водка', 28),\n",
       " ('бар', 27),\n",
       " ('ресторан', 19),\n",
       " ('кухня', 19),\n",
       " ('хлеб', 18),\n",
       " ('кофе', 16),\n",
       " ('завтрак', 13),\n",
       " ('еда', 13),\n",
       " ('пост', 13),\n",
       " ('рыба', 13),\n",
       " ('масло', 12),\n",
       " ('мед', 12),\n",
       " ('пиво', 11),\n",
       " ('ужин', 11),\n",
       " ('коньяк', 11),\n",
       " ('алкоголь', 10),\n",
       " ('коктейль', 10),\n",
       " ('яблоко', 10),\n",
       " ('соль', 10),\n",
       " ('блин', 10),\n",
       " ('метр', 9),\n",
       " ('сахар', 8),\n",
       " ('гриб', 8),\n",
       " ('джин', 8),\n",
       " ('шоколад', 7),\n",
       " ('посуда', 7),\n",
       " ('текила', 6),\n",
       " ('обед', 6),\n",
       " ('мак', 6),\n",
       " ('официант', 6),\n",
       " ('порция', 6),\n",
       " ('торт', 6),\n",
       " ('банан', 6),\n",
       " ('сыр', 6),\n",
       " ('конфета', 6),\n",
       " ('блюдо', 6),\n",
       " ('кафе', 5),\n",
       " ('чипсы', 5),\n",
       " ('сковородка', 5),\n",
       " ('пудинг', 5),\n",
       " ('щи', 5),\n",
       " ('каша', 5),\n",
       " ('тарелка', 5),\n",
       " ('тесто', 5),\n",
       " ('плита', 4),\n",
       " ('спирт', 4),\n",
       " ('рис', 4),\n",
       " ('кокос', 4),\n",
       " ('масса', 4),\n",
       " ('зерно', 4),\n",
       " ('печь', 4),\n",
       " ('напиток', 4),\n",
       " ('баня', 4),\n",
       " ('конфетка', 4),\n",
       " ('котлета', 4),\n",
       " ('ром', 4),\n",
       " ('мука', 4),\n",
       " ('тост', 3),\n",
       " ('суп', 3),\n",
       " ('лимонад', 3),\n",
       " ('дичь', 3),\n",
       " ('портвейн', 3),\n",
       " ('леденец', 3),\n",
       " ('питание', 3),\n",
       " ('отрава', 3),\n",
       " ('крепость', 3),\n",
       " ('груша', 3),\n",
       " ('курица', 3),\n",
       " ('пища', 3),\n",
       " ('мандарин', 3),\n",
       " ('салат', 3),\n",
       " ('капуста', 3),\n",
       " ('пицца', 3),\n",
       " ('бордо', 3),\n",
       " ('черемуха', 3),\n",
       " ('омлет', 2),\n",
       " ('борщ', 2),\n",
       " ('бульон', 2),\n",
       " ('киви', 2),\n",
       " ('печка', 2),\n",
       " ('экстракт', 2),\n",
       " ('повар', 2),\n",
       " ('настой', 2),\n",
       " ('аперитив', 2),\n",
       " ('укроп', 2),\n",
       " ('чайник', 2),\n",
       " ('шоколадка', 2),\n",
       " ('карамель', 2),\n",
       " ('столик', 2),\n",
       " ('кабак', 2),\n",
       " ('виноград', 2),\n",
       " ('лимон', 2),\n",
       " ('пойло', 2),\n",
       " ('огород', 2),\n",
       " ('калач', 2),\n",
       " ('пряник', 2),\n",
       " ('хмель', 2),\n",
       " ('крем', 2),\n",
       " ('овощ', 2),\n",
       " ('сырок', 2),\n",
       " ('перец', 2),\n",
       " ('шашлык', 2),\n",
       " ('продукт', 2),\n",
       " ('баклажан', 2),\n",
       " ('мармелад', 2),\n",
       " ('бутерброд', 2),\n",
       " ('макароны', 2),\n",
       " ('фрукт', 2),\n",
       " ('калина', 2),\n",
       " ('колбаска', 2),\n",
       " ('курага', 1),\n",
       " ('корж', 1),\n",
       " ('слива', 1),\n",
       " ('гуляш', 1),\n",
       " ('желе', 1),\n",
       " ('фрикаделька', 1),\n",
       " ('студень', 1),\n",
       " ('гусь', 1),\n",
       " ('пирог', 1),\n",
       " ('эдем', 1),\n",
       " ('тостер', 1),\n",
       " ('винегрет', 1),\n",
       " ('настойка', 1),\n",
       " ('картошка', 1),\n",
       " ('ерш', 1),\n",
       " ('тыква', 1),\n",
       " ('изюм', 1),\n",
       " ('перегар', 1),\n",
       " ('ежевика', 1),\n",
       " ('биток', 1),\n",
       " ('желток', 1),\n",
       " ('брага', 1),\n",
       " ('свекла', 1),\n",
       " ('смородина', 1),\n",
       " ('заряд', 1),\n",
       " ('гурман', 1),\n",
       " ('бифштекс', 1),\n",
       " ('нектар', 1),\n",
       " ('крекер', 1),\n",
       " ('финик', 1),\n",
       " ('картофель', 1),\n",
       " ('йогурт', 1),\n",
       " ('репа', 1),\n",
       " ('ликер', 1),\n",
       " ('земляника', 1),\n",
       " ('ириска', 1),\n",
       " ('горох', 1),\n",
       " ('кефир', 1),\n",
       " ('бармен', 1),\n",
       " ('джем', 1),\n",
       " ('бри', 1),\n",
       " ('самогон', 1),\n",
       " ('пломбир', 1),\n",
       " ('трезвенник', 1),\n",
       " ('эль', 1),\n",
       " ('чеснок', 1),\n",
       " ('малина', 1),\n",
       " ('ваниль', 1),\n",
       " ('вермут', 1),\n",
       " ('абсент', 1),\n",
       " ('томат', 1),\n",
       " ('булка', 1)]"
      ]
     },
     "execution_count": 16,
     "metadata": {},
     "output_type": "execute_result"
    }
   ],
   "source": [
    "food"
   ]
  },
  {
   "cell_type": "markdown",
   "metadata": {},
   "source": [
    "2. valtocount - функция, считает вхождения по исполнителям <br>\n",
    "2.1 most_com - функция, которая превращает defaultdict в counter, отсортированный от большего к меньшему"
   ]
  },
  {
   "cell_type": "code",
   "execution_count": 17,
   "metadata": {},
   "outputs": [],
   "source": [
    "def most_com(defdict):\n",
    "    adict = Counter(defdict)\n",
    "    return adict.most_common()"
   ]
  },
  {
   "cell_type": "code",
   "execution_count": 18,
   "metadata": {},
   "outputs": [],
   "source": [
    "def valtocount(val, defdict, sid):\n",
    "    for item in sid:\n",
    "        artist = item[0]\n",
    "        token = item[1]\n",
    "        lem = item[2]\n",
    "        in_sent = item[3]\n",
    "        if lem in val:\n",
    "            defdict[artist] +=1\n",
    "    return most_com(defdict)"
   ]
  },
  {
   "cell_type": "code",
   "execution_count": 19,
   "metadata": {},
   "outputs": [],
   "source": [
    "food_v = [item[0] for item in food]\n",
    "artfood = valtocount(food_v, defaultdict(int), sid)"
   ]
  },
  {
   "cell_type": "markdown",
   "metadata": {},
   "source": [
    "3. namesfigs<br>\n",
    "acounter - каунтер со всеми полученными значениями <br>\n",
    "quantity - слова, чье количество вхождений больше qunatity, вы получите на графике"
   ]
  },
  {
   "cell_type": "code",
   "execution_count": 20,
   "metadata": {},
   "outputs": [],
   "source": [
    "def namesfigs(acounter, quantity):\n",
    "    names = []\n",
    "    figures = []\n",
    "    for it in acounter:\n",
    "        if it[1]>quantity:\n",
    "            names.append(it[0])\n",
    "            figures.append(it[1])\n",
    "    return names, figures"
   ]
  },
  {
   "cell_type": "markdown",
   "metadata": {},
   "source": [
    "4. функция, которая строит график для исполнителей. на вход подается словарь с вхождениями у исполнителей"
   ]
  },
  {
   "cell_type": "code",
   "execution_count": 21,
   "metadata": {},
   "outputs": [],
   "source": [
    "def buildgraph(names, figures, savename, title):\n",
    "    plt.figure(figsize=(15,15))\n",
    "    rgb = (round(random.random(), 1), round(random.random(), 1), round(random.random(), 1))\n",
    "    plt.rcdefaults()\n",
    "    fig, ax = plt.subplots()\n",
    "    \n",
    "    # Example data\n",
    "    y_pos = np.arange(len(names))\n",
    "    performance = figures\n",
    "    \n",
    "    ax.barh(y_pos, performance, align='center', color=rgb)\n",
    "    ax.set_yticks(y_pos)\n",
    "    ax.set_yticklabels(names, fontsize=8)\n",
    "    ax.invert_yaxis()  # labels read top-to-bottom\n",
    "    ax.set_title(title)\n",
    "    ax.set_xlabel('Абсолютное количество')\n",
    "    \n",
    "    for i, v in enumerate(performance):\n",
    "      #  ax.text(v + 3, i + .25, str(v), color='blue', fontsize=8)\n",
    "        ax.text(v+0.1, i + .25, str(v), color='blue', fontsize=6)\n",
    "    titl = f'{savename}.png'\n",
    "    fig1 = plt.gcf()\n",
    "    plt.show()\n",
    "    fig1.savefig(titl, dpi=300, bbox_inches = \"tight\")"
   ]
  },
  {
   "cell_type": "markdown",
   "metadata": {},
   "source": [
    "5. Функция, которая задает альтернативный выбор между видами графиков. Варьируется подаваемый словарь и цифра. <br>\n",
    "1 - для исполнителей <br>\n",
    "2 (не 1) - для лексики"
   ]
  },
  {
   "cell_type": "code",
   "execution_count": 22,
   "metadata": {},
   "outputs": [],
   "source": [
    "def countograph(acounter, quantity, savename, title, typ):\n",
    "    names, figures = namesfigs(acounter, quantity)\n",
    "    if typ == 1:  # для топа исполнителей\n",
    "        graph = buildgraph(names, figures, savename, title)\n",
    "    else:  # для топа лексики\n",
    "        graph = build2(names, figures, savename, title)"
   ]
  },
  {
   "cell_type": "code",
   "execution_count": 23,
   "metadata": {
    "scrolled": false
   },
   "outputs": [
    {
     "data": {
      "text/plain": [
       "<Figure size 1080x1080 with 0 Axes>"
      ]
     },
     "metadata": {},
     "output_type": "display_data"
    },
    {
     "data": {
      "image/png": "[encoded data removed]",
      "text/plain": [
       "<Figure size 640x480 with 1 Axes>"
      ]
     },
     "metadata": {},
     "output_type": "display_data"
    }
   ],
   "source": [
    "foodg = countograph(artfood, 12, 'artfood', r'Упоминания еды, напитков, посуды, приемов пищи и связанных мест и профессий', 1)"
   ]
  },
  {
   "cell_type": "markdown",
   "metadata": {},
   "source": [
    "5. функция, которая строит график для лексики"
   ]
  },
  {
   "cell_type": "code",
   "execution_count": 24,
   "metadata": {},
   "outputs": [],
   "source": [
    "def build2(values, freqs, savename, title):\n",
    "    plt.figure(figsize=(15,15)) \n",
    "    xs = values\n",
    "    ys = [freq/169257 for freq in freqs]\n",
    "    plt.plot(xs,ys)\n",
    "    \n",
    "    for x,y in zip(xs,ys):\n",
    "    \n",
    "        label = int(y*169257)\n",
    "    \n",
    "        plt.annotate(label,\n",
    "                     (x,y),\n",
    "                     textcoords=\"offset points\", # how to position the text\n",
    "                     xytext=(0,6), # distance from text to points (x,y)\n",
    "                     ha='center',\n",
    "                    rotation=30) # horizontal alignment can be left, right or center\n",
    "        \n",
    "    \n",
    "    \n",
    "    plt.xticks(rotation=60, fontsize=12) \n",
    "    plt.title(title, fontsize=14)\n",
    "    \n",
    "    fig1 = plt.gcf()\n",
    "    plt.show()\n",
    "    plt.draw()\n",
    "    fig1.savefig(f'{savename}.png', dpi=300, bbox_inches = \"tight\")"
   ]
  },
  {
   "cell_type": "code",
   "execution_count": 25,
   "metadata": {
    "scrolled": false
   },
   "outputs": [
    {
     "data": {
      "image/png": "[encoded data removed]",
      "text/plain": [
       "<Figure size 1500x1500 with 1 Axes>"
      ]
     },
     "metadata": {},
     "output_type": "display_data"
    },
    {
     "data": {
      "text/plain": [
       "<Figure size 640x480 with 0 Axes>"
      ]
     },
     "metadata": {},
     "output_type": "display_data"
    }
   ],
   "source": [
    "foodvg = countograph(food, 10, 'dish', r'Упоминания еды и напитков, приемов пищи и связанных мест', 2)"
   ]
  },
  {
   "cell_type": "code",
   "execution_count": 26,
   "metadata": {},
   "outputs": [],
   "source": [
    "db.close()"
   ]
  }
 ],
 "metadata": {
  "kernelspec": {
   "display_name": "Python 3",
   "language": "python",
   "name": "python3"
  },
  "language_info": {
   "codemirror_mode": {
    "name": "ipython",
    "version": 3
   },
   "file_extension": ".py",
   "mimetype": "text/x-python",
   "name": "python",
   "nbconvert_exporter": "python",
   "pygments_lexer": "ipython3",
   "version": "3.7.4"
  }
 },
 "nbformat": 4,
 "nbformat_minor": 2
}
