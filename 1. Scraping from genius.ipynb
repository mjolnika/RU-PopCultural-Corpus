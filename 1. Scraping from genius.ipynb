{
 "cells": [
  {
   "cell_type": "code",
   "execution_count": null,
   "metadata": {},
   "outputs": [],
   "source": [
    "import lyricsgenius as genius"
   ]
  },
  {
   "cell_type": "markdown",
   "metadata": {},
   "source": [
    "#### 0. Наблюдения"
   ]
  },
  {
   "cell_type": "markdown",
   "metadata": {},
   "source": [
    "<li>Скачивать лучше всего итерируясь по списку. Но возможно три варианта. 1 - такого исполнителя на сайте нет. 2 - исполнитель на сайте есть, но песен у него нет. 3 - у исполнителя есть песни. Чтобы ничего не потерять, лучше эту информацию записывать куда-нибудь отдельно. </li>\n",
    "<li>Также неплохо оставлять время перед выгрузкой исполнителей, так как при слабом интернете загрузка большого количества данных может прерываться, и в итоге вы не скачаете ничего</li>\n",
    "<li>То, как записывают ремиксы и пр. предугадать невозможно, так что чистить все равно придется </li>\n",
    "<li>Также можно поменять то, как по дефолту сохраняется файл - g_artist.save_lyrics(extension='json', overwrite= True, binary_encoding=True, filename='каквыхотитесохранять') </li>"
   ]
  },
  {
   "cell_type": "markdown",
   "metadata": {},
   "source": [
    "#### 1. Как это можно делать:"
   ]
  },
  {
   "cell_type": "code",
   "execution_count": null,
   "metadata": {},
   "outputs": [],
   "source": [
    "artists = []  # ваш список"
   ]
  },
  {
   "cell_type": "code",
   "execution_count": null,
   "metadata": {},
   "outputs": [],
   "source": [
    "token = ''  # ваш токен\n",
    "api = genius.Genius(token)"
   ]
  },
  {
   "cell_type": "code",
   "execution_count": 6,
   "metadata": {},
   "outputs": [],
   "source": [
    "for artist in artists:\n",
    "    try:\n",
    "        g_artist = api.search_artist(artist)  # а вот тут интересно! возможно три варианта. 1 - такого исполнителя на сайте нет. 2 - исполнитель на сайте есть, но песен у него нет. 3 - у исполнителя есть песни.\n",
    "        if g_artist.songs:\n",
    "            if len(g_artist.songs)>0:\n",
    "                genius.remove_section_headers = True\n",
    "                genius.skip_non_songs = True\n",
    "                genius.excluded_terms = [\"(Remix)\", \"(Live)\", \"Remix\", \"mix\", \"Edition\", 'Retouch', '(Retouch)']\n",
    "                g_artist.save_lyrics(extension='json', overwrite= True, binary_encoding=True)  #сохранили ВСЮ информацию в json файл\n",
    "                time.sleep(5)\n",
    "            else:\n",
    "                with open ('no_data.txt', 'a+', encoding='utf-8') as f:\n",
    "                    f.write(artist + ' нет песен\\n')\n",
    "        else:\n",
    "            with open ('no_data.txt', 'a+', encoding='utf-8') as f:\n",
    "                f.write(artist + ' нет исполнителя\\n')\n",
    "    except:\n",
    "        with open ('no_data.txt', 'a+', encoding='utf-8') as f:\n",
    "            f.write(artist + ' ошибка\\n')"
   ]
  },
  {
   "cell_type": "markdown",
   "metadata": {},
   "source": [
    "#### 3. Пример загрузки"
   ]
  },
  {
   "cell_type": "code",
   "execution_count": 31,
   "metadata": {},
   "outputs": [
    {
     "name": "stdout",
     "output_type": "stream",
     "text": [
      "Searching for songs by Loboda...\n",
      "\n",
      "Song 1: \"Лети (Leti)\"\n",
      "Song 2: \"Текила-любовь (Tequila-love)\"\n",
      "Song 3: \"SuperSTAR\"\n",
      "Song 4: \"Пуля-дура (Pulya-dura)\"\n",
      "Song 5: \"Твои глаза (Your Eyes)\"\n",
      "Song 6: \"Случайная (Sluchaynaya)\"\n",
      "Song 7: \"40 градусов (40 Degrees)\"\n",
      "Song 8: \"К чёрту любовь (To Hell with Love)\"\n",
      "Song 9: \"Живи спокойно, страна! (Zhivi spokoyno, strana!)\"\n",
      "Song 10: \"Bon appétit\"\n",
      "Song 11: \"Облака (Clouds)\"\n",
      "Song 12: \"Хиросима (Hiroshima)\"\n",
      "Song 13: \"Мира мало (Mira malo)\"\n",
      "Song 14: \"Стерва (Vixen)\"\n",
      "Song 15: \"Жарко (Hot)\"\n",
      "Song 16: \"Парень (Paren’)\"\n",
      "Song 17: \"Париж (Paris)\"\n",
      "Song 18: \"Пора домой (Time to Go Home)\"\n",
      "Song 19: \"Новый Рим (New Rome)\"\n",
      "Song 20: \"Instadrama\"\n",
      "Song 21: \"В зоне риска (At Risk)\"\n",
      "Song 22: \"Убей меня (Kill Me)\"\n",
      "Song 23: \"Революция (Revolution)\"\n",
      "Song 24: \"Танцую волосами (Dancing With My Hair)\"\n",
      "Song 25: \"Невеста (Bride)\"\n",
      "Song 26: \"Сердце бьётся (Heartbeat)\"\n",
      "Song 27: \"Плохой (Bad)\"\n",
      "Song 28: \"Be My Valentine (Anti-Crisis Girl)\"\n",
      "Song 29: \"Не нужна (Not Needed)\"\n",
      "Song 30: \"Твои глаза (Your Eyes) [First version]\"\n",
      "Song 31: \"ТвоиГлазаТуманы (TvoiGlazaTumany)\"\n",
      "Song 32: \"Город под запретом (City Under Ban)\"\n",
      "Song 33: \"#1\"\n",
      "Song 34: \"Чуть-чуть (Just a Little)\"\n",
      "Song 35: \"Одной масти (Of the Same Suit)\"\n",
      "Song 36: \"Последний герой (Last Hero)\"\n",
      "Song 37: \"Intro\"\n",
      "Song 38: \"Синие волны (Blue Waves)\"\n",
      "Song 39: \"Под лёд (Under the Ice)\"\n",
      "Song 40: \"Танец с волками (Dance with wolves)\"\n",
      "Song 41: \"Сказочный дом (Fairy House)\"\n",
      "Song 42: \"Ангелок (Angel)\"\n",
      "\"H2LO (Tracklist + Album Cover)\" is not valid. Skipping.\n",
      "Song 43: \"Insta (Maruv Remix)\"\n",
      "Song 44: \"На свете (World)\"\n",
      "Song 45: \"Смотришь в небо (You’re Looking at the Sky)\"\n",
      "Song 46: \"Мишка, гадкий мальчишка (Mishka, gadkiy mal’chishka)\"\n",
      "Song 47: \"Я забуду тебя (Ya zabudu tebya)\"\n",
      "Song 48: \"Ты не забудешь (Ty ne zabudesh’)\"\n",
      "Song 49: \"H2LO (General Form + Album Photoshoot)\"\n",
      "Song 50: \"Дай мне (Day mne)\"\n",
      "Song 51: \"Я тебя не помню (Ya tebya ne pomnyu)\"\n",
      "Song 52: \"Не ма4о!\"\n",
      "Song 53: \"Счастье (Schast’e)\"\n",
      "Song 54: \"Потому, что люблю (Potomu, chto lyublyu)\"\n",
      "Song 55: \"Чёрный ангел (Chernyy angel)\"\n",
      "Song 56: \"Чёрно-белая зима (Cherno-belaya zima)\"\n",
      "Song 57: \"Там, за облаками (Tam, za oblakami)\"\n",
      "Song 58: \"Я влюбилась (Ya vlyubilas’)\"\n",
      "Song 59: \"Море, мама (Sea, mom)\"\n",
      "Song 60: \"За что? (Za chto?)\"\n",
      "Song 61: \"Постой, мужчина! (Postoy, muzhchina!)\"\n",
      "Song 62: \"Не покидай (Ne pokiday)\"\n",
      "Song 63: \"Парень, ты ниЧё! (Paren, ty niCHe!)\"\n",
      "Song 64: \"Diego Thug\"\n",
      "Song 65: \"Возьми (Voz’mi)\"\n",
      "Song 66: \"В этом проблема (V etom problema)\"\n",
      "Song 67: \"Надоело (Tired)\"\n",
      "Song 68: \"Big Che\"\n",
      "Song 69: \"Спасибо (Thanks)\"\n",
      "Song 70: \"Назначаю своим (Naznachayu svoim)\"\n",
      "Song 71: \"Облиш (Oblysh)\"\n",
      "Song 72: \"By Your Side\"\n",
      "Song 73: \"Мания (Mania)\"\n",
      "Song 74: \"Нафиг нужен мне (Nafig nuzhen mne)\"\n",
      "Song 75: \"Жить легко (Living is easy)\"\n",
      "Song 76: \"И её и его (Her and him)\"\n",
      "Song 77: \"Стоп (Stop)\"\n",
      "Song 78: \"Птица (Bird)\"\n",
      "Song 79: \"Didn’t Mean\"\n",
      "Song 80: \"Я не бита битой (Ya ne bita bitoy)\"\n",
      "Song 81: \"How Can I Get You\"\n",
      "Song 82: \"Начало (Beginning)\"\n",
      "Song 83: \"Кохана (Beloved)\"\n",
      "Song 84: \"Чёрно-белая зима (Rmx) (Cherno-belaya zima (Rmx))\"\n",
      "Song 85: \"Под снегом (Under snow)\"\n",
      "Song 86: \"What about U\"\n",
      "Song 87: \"Я забуду тебя (Rmx) (Ya zabudu tebya (Rmx))\"\n",
      "Song 88: \"Не люби (Not love)\"\n",
      "Done. Found 88 songs.\n",
      "Wrote `Lyrics_Loboda.json`\n"
     ]
    }
   ],
   "source": [
    "c_artist = api.search_artist('Loboda')\n",
    "genius.remove_section_headers = True\n",
    "genius.skip_non_songs = True\n",
    "genius.excluded_terms = [\"(Remix)\", \"(Live)\", \"Remix\", \"mix\", \"Edition\", 'Retouch', '(Retouch)']\n",
    "c_artist.save_lyrics(extension='json', overwrite= True, binary_encoding=True)  "
   ]
  }
 ],
 "metadata": {
  "kernelspec": {
   "display_name": "Python 3",
   "language": "python",
   "name": "python3"
  },
  "language_info": {
   "codemirror_mode": {
    "name": "ipython",
    "version": 3
   },
   "file_extension": ".py",
   "mimetype": "text/x-python",
   "name": "python",
   "nbconvert_exporter": "python",
   "pygments_lexer": "ipython3",
   "version": "3.7.4"
  }
 },
 "nbformat": 4,
 "nbformat_minor": 2
}
